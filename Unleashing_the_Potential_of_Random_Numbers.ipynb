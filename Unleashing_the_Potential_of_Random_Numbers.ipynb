{
  "nbformat": 4,
  "nbformat_minor": 0,
  "metadata": {
    "colab": {
      "provenance": []
    },
    "kernelspec": {
      "name": "python3",
      "display_name": "Python 3"
    },
    "language_info": {
      "name": "python"
    }
  },
  "cells": [
    {
      "cell_type": "code",
      "source": [
        "import random\n",
        "print(random.randint(1,10))\n",
        "print(random.random())"
      ],
      "metadata": {
        "colab": {
          "base_uri": "https://localhost:8080/"
        },
        "id": "Z1CnQeKU7mRj",
        "outputId": "e3406503-04fb-4ca6-ce29-cef71af23f0d"
      },
      "execution_count": 6,
      "outputs": [
        {
          "output_type": "stream",
          "name": "stdout",
          "text": [
            "9\n",
            "0.03166606313281639\n"
          ]
        }
      ]
    },
    {
      "cell_type": "code",
      "source": [
        "#Make your own version of a magic 8 ball that prints yes, no or may be each time you ask it"
      ],
      "metadata": {
        "id": "TEunVd-u8IH2"
      },
      "execution_count": 7,
      "outputs": []
    },
    {
      "cell_type": "code",
      "source": [
        "answer = random.randint(1,3)\n",
        "answer"
      ],
      "metadata": {
        "colab": {
          "base_uri": "https://localhost:8080/"
        },
        "id": "FTFw6iOs8IOr",
        "outputId": "09cd61d6-b251-4536-983e-aea31c5557e4"
      },
      "execution_count": 13,
      "outputs": [
        {
          "output_type": "execute_result",
          "data": {
            "text/plain": [
              "3"
            ]
          },
          "metadata": {},
          "execution_count": 13
        }
      ]
    },
    {
      "cell_type": "code",
      "source": [
        "answer = random.randint(1,3)\n",
        "if answer == 1:\n",
        "  print(\"Yes\")\n",
        "if answer == 2:\n",
        "  print(\"No\")\n",
        "if answer == 3:\n",
        "  print(\"Maybe\")"
      ],
      "metadata": {
        "colab": {
          "base_uri": "https://localhost:8080/"
        },
        "id": "GYmqypFR8pMS",
        "outputId": "06a18597-09f6-4286-9017-7349ced42ed3"
      },
      "execution_count": 14,
      "outputs": [
        {
          "output_type": "stream",
          "name": "stdout",
          "text": [
            "Yes\n"
          ]
        }
      ]
    }
  ]
}